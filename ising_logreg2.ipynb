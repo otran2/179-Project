{
 "cells": [
  {
   "cell_type": "code",
   "execution_count": 5,
   "id": "d7651463-6616-4d6a-aa7e-24ee1b6814eb",
   "metadata": {},
   "outputs": [],
   "source": [
    "#Based off recsys ising starter code\n",
    "\n",
    "import matplotlib.pyplot as plt\n",
    "import pyGMs as gm\n",
    "import numpy as np\n",
    "import time\n",
    "import pickle\n",
    "import numpy as np\n",
    "import pyGMs.ising\n",
    "\n",
    "'''\n",
    "start_time = time.process_time_ns()\n",
    "time_elasped = time.process_time_ns() - start_time\n",
    "print(time_elasped/(10**9))\n",
    "'''\n",
    "\n",
    "with open('user_dict.pkl', 'rb') as file:\n",
    "    loaded_data = pickle.load(file)\n",
    "with open('train_users.pkl', 'rb') as file:\n",
    "    loaded_training = pickle.load(file)\n",
    "with open('test_users.pkl', 'rb') as file:\n",
    "    loaded_test = pickle.load(file)\n",
    "with open('movie_name.pkl', 'rb') as file:\n",
    "    movie_name = pickle.load(file)\n",
    "    \n",
    "Xtr = np.asarray([loaded_data[x] for x in loaded_training])\n",
    "Xte = np.asarray([loaded_data[x] for x in loaded_test])\n",
    "\n",
    "Xtr_missing = np.where(np.isnan(Xtr), -1, Xtr).astype(int)\n",
    "Xte_missing = np.where(np.isnan(Xte), -1, Xte).astype(int)\n",
    "Xtr = (Xtr >= 4).astype(int)   # did each user like the movie?  (binary)\n",
    "Xte = (Xte >= 4).astype(int)\n",
    "\n",
    "mUsers, nMovies = Xtr.shape"
   ]
  },
  {
   "cell_type": "code",
   "execution_count": 6,
   "id": "bb477655-c9ac-4baa-9006-350ab309d6eb",
   "metadata": {},
   "outputs": [],
   "source": [
    "def impute_missing(model, Xobs):\n",
    "    m,n = Xobs.shape\n",
    "    Xhat = np.copy(Xobs);\n",
    "    for j in range(m):\n",
    "        x_obs = {i:Xobs[j,i] for i in range(n) if Xobs[j,i] in (0,1)}\n",
    "        x_unobs = [i for i in range(n) if Xobs[j,i] not in (0,1)]\n",
    "        if not x_unobs: continue\n",
    "        cond = gm.GraphModel([f.condition(x_obs) for f in model.factorsWithAny(x_unobs)])\n",
    "        for x in cond.X:\n",
    "            if x.states == 0: x.states = 1;  # fix a bug in GraphModel behavior for missing vars...\n",
    "        jt = gm.wmb.JTree(cond, weights=1e-6) # 0: for maximization\n",
    "        x_hat = jt.argmax();\n",
    "        for i in x_unobs: Xhat[j,i] = x_hat[i]\n",
    "    return Xhat"
   ]
  },
  {
   "cell_type": "code",
   "execution_count": 7,
   "id": "4344bfec-6970-41c1-a5cf-46f53e2ba277",
   "metadata": {},
   "outputs": [],
   "source": [
    "Xte_missing = Xte[:100, :int(0.7*len(Xte[0]))]\n",
    "miss_x, miss_y = Xte_missing.shape"
   ]
  },
  {
   "cell_type": "code",
   "execution_count": null,
   "id": "6fca6a81-d483-4adc-aba6-13a1745c58fb",
   "metadata": {},
   "outputs": [],
   "source": [
    "train_len =  [500, 1000, 2500, 5040]\n",
    "c_vals = [0.0001, 0.001, 0.01, 0.1, 0.5, 1, 5, 10, 50, 100]\n",
    "for x in train_len:\n",
    "    for y in c_vals:\n",
    "        file = open(\"resultsVersion2.txt\", \"a\")\n",
    "        file.write(f\"Results with training length of {x} and C penalty value of {y}\\n\")\n",
    "        start_time = time.process_time_ns()\n",
    "        ising_l1 = gm.ising.fit_logregL1(Xtr[:x], C=y)\n",
    "        time_elasped = time.process_time_ns() - start_time\n",
    "        file.write(f\"Time taken to train in seconds: {time_elasped/(10**9)}\\n\")\n",
    "        gm.drawMarkovGraph(ising_l1);\n",
    "        plt.savefig(f\"Size{x}C{y}V2_1.png\")\n",
    "        file.write(f\"Pseudo-likelihood training set: {ising_l1.pseudolikelihood(Xtr[:x]).mean()}\\n\")\n",
    "        file.write(f\"Pseudo-likelihood testing set: {ising_l1.pseudolikelihood(Xte).mean()}\\n\\n\")\n",
    "        #Xte_hat = impute_missing(ising_l1, Xte_missing)\n",
    "        #file.write(f'Error rate: {np.mean( (Xte_hat!=Xte_missing)[Xte_hat<0])}\\n\\n')\n",
    "        file.close()"
   ]
  },
  {
   "cell_type": "code",
   "execution_count": null,
   "id": "a1a3d7cd-1649-43a0-a072-6e33dcec80c7",
   "metadata": {},
   "outputs": [],
   "source": []
  },
  {
   "cell_type": "code",
   "execution_count": null,
   "id": "dd44b108-07a5-46f1-9bca-518e50f6aab5",
   "metadata": {},
   "outputs": [],
   "source": []
  }
 ],
 "metadata": {
  "kernelspec": {
   "display_name": "Python 3 (ipykernel)",
   "language": "python",
   "name": "python3"
  },
  "language_info": {
   "codemirror_mode": {
    "name": "ipython",
    "version": 3
   },
   "file_extension": ".py",
   "mimetype": "text/x-python",
   "name": "python",
   "nbconvert_exporter": "python",
   "pygments_lexer": "ipython3",
   "version": "3.12.7"
  }
 },
 "nbformat": 4,
 "nbformat_minor": 5
}
